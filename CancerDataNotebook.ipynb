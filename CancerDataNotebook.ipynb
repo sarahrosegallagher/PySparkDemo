{
  "nbformat": 4,
  "nbformat_minor": 0,
  "metadata": {
    "colab": {
      "provenance": []
    },
    "kernelspec": {
      "name": "python3",
      "display_name": "Python 3"
    },
    "language_info": {
      "name": "python"
    }
  },
  "cells": [
    {
      "cell_type": "code",
      "execution_count": 2,
      "metadata": {
        "colab": {
          "base_uri": "https://localhost:8080/",
          "height": 887
        },
        "id": "VVOAPq9yW23b",
        "outputId": "2073345d-5f12-46a8-f9dd-9886a7e7f919"
      },
      "outputs": [
        {
          "output_type": "stream",
          "name": "stdout",
          "text": [
            "\u001b[33m\r0% [Working]\u001b[0m\r            \rGet:1 https://cloud.r-project.org/bin/linux/ubuntu jammy-cran40/ InRelease [3,626 B]\n",
            "Get:2 https://developer.download.nvidia.com/compute/cuda/repos/ubuntu2204/x86_64  InRelease [1,581 B]\n",
            "Get:3 http://security.ubuntu.com/ubuntu jammy-security InRelease [110 kB]\n",
            "Hit:4 http://archive.ubuntu.com/ubuntu jammy InRelease\n",
            "Get:5 http://archive.ubuntu.com/ubuntu jammy-updates InRelease [119 kB]\n",
            "Get:6 https://developer.download.nvidia.com/compute/cuda/repos/ubuntu2204/x86_64  Packages [662 kB]\n",
            "Hit:7 https://ppa.launchpadcontent.net/c2d4u.team/c2d4u4.0+/ubuntu jammy InRelease\n",
            "Hit:8 https://ppa.launchpadcontent.net/deadsnakes/ppa/ubuntu jammy InRelease\n",
            "Get:9 http://archive.ubuntu.com/ubuntu jammy-backports InRelease [109 kB]\n",
            "Hit:10 https://ppa.launchpadcontent.net/graphics-drivers/ppa/ubuntu jammy InRelease\n",
            "Hit:11 https://ppa.launchpadcontent.net/ubuntugis/ppa/ubuntu jammy InRelease\n",
            "Get:12 http://security.ubuntu.com/ubuntu jammy-security/universe amd64 Packages [1,056 kB]\n",
            "Get:13 http://archive.ubuntu.com/ubuntu jammy-updates/universe amd64 Packages [1,321 kB]\n",
            "Get:14 http://archive.ubuntu.com/ubuntu jammy-updates/main amd64 Packages [1,624 kB]\n",
            "Get:15 http://archive.ubuntu.com/ubuntu jammy-backports/universe amd64 Packages [28.1 kB]\n",
            "Get:16 http://archive.ubuntu.com/ubuntu jammy-backports/main amd64 Packages [50.4 kB]\n",
            "Fetched 5,084 kB in 3s (1,584 kB/s)\n",
            "Reading package lists... Done\n",
            "Building dependency tree... Done\n",
            "Reading state information... Done\n",
            "32 packages can be upgraded. Run 'apt list --upgradable' to see them.\n",
            "tar: spark-3.2.1-bin-hadoop3.2.tgz: Cannot open: No such file or directory\n",
            "tar: Error is not recoverable: exiting now\n",
            "Collecting pyspark\n",
            "  Downloading pyspark-3.5.0.tar.gz (316.9 MB)\n",
            "\u001b[2K     \u001b[90m━━━━━━━━━━━━━━━━━━━━━━━━━━━━━━━━━━━━━━━━\u001b[0m \u001b[32m316.9/316.9 MB\u001b[0m \u001b[31m2.9 MB/s\u001b[0m eta \u001b[36m0:00:00\u001b[0m\n",
            "\u001b[?25h  Preparing metadata (setup.py) ... \u001b[?25l\u001b[?25hdone\n",
            "Requirement already satisfied: py4j==0.10.9.7 in /usr/local/lib/python3.10/dist-packages (from pyspark) (0.10.9.7)\n",
            "Building wheels for collected packages: pyspark\n",
            "  Building wheel for pyspark (setup.py) ... \u001b[?25l\u001b[?25hdone\n",
            "  Created wheel for pyspark: filename=pyspark-3.5.0-py2.py3-none-any.whl size=317425345 sha256=1ae187957bf1b1c101a1b7c0ae1d15dba25d68abd70b58fea87e32deff752dad\n",
            "  Stored in directory: /root/.cache/pip/wheels/41/4e/10/c2cf2467f71c678cfc8a6b9ac9241e5e44a01940da8fbb17fc\n",
            "Successfully built pyspark\n",
            "Installing collected packages: pyspark\n",
            "Successfully installed pyspark-3.5.0\n",
            "Requirement already satisfied: py4j in /usr/local/lib/python3.10/dist-packages (0.10.9.7)\n"
          ]
        },
        {
          "output_type": "execute_result",
          "data": {
            "text/plain": [
              "<pyspark.sql.session.SparkSession at 0x7c08a1b81cc0>"
            ],
            "text/html": [
              "\n",
              "            <div>\n",
              "                <p><b>SparkSession - in-memory</b></p>\n",
              "                \n",
              "        <div>\n",
              "            <p><b>SparkContext</b></p>\n",
              "\n",
              "            <p><a href=\"http://b364188fcd39:4040\">Spark UI</a></p>\n",
              "\n",
              "            <dl>\n",
              "              <dt>Version</dt>\n",
              "                <dd><code>v3.5.0</code></dd>\n",
              "              <dt>Master</dt>\n",
              "                <dd><code>local[*]</code></dd>\n",
              "              <dt>AppName</dt>\n",
              "                <dd><code>Our First Spark Example</code></dd>\n",
              "            </dl>\n",
              "        </div>\n",
              "        \n",
              "            </div>\n",
              "        "
            ]
          },
          "metadata": {},
          "execution_count": 2
        }
      ],
      "source": [
        "!sudo apt update\n",
        "!apt-get install openjdk-8-jdk-headless -qq > /dev/null\n",
        "#Check this site for the latest download link https://www.apache.org/dyn/closer.lua/spark/spark-3.2.1/spark-3.2.1-bin-hadoop3.2.tgz\n",
        "!wget -q https://dlcdn.apache.org/spark/spark-3.2.1/spark-3.2.1-bin-hadoop3.2.tgz\n",
        "!tar xf spark-3.2.1-bin-hadoop3.2.tgz\n",
        "!pip install -q findspark\n",
        "!pip install pyspark\n",
        "!pip install py4j\n",
        "\n",
        "import os\n",
        "import sys\n",
        "# os.environ[\"JAVA_HOME\"] = \"/usr/lib/jvm/java-8-openjdk-amd64\"\n",
        "# os.environ[\"SPARK_HOME\"] = \"/content/spark-3.2.1-bin-hadoop3.2\"\n",
        "\n",
        "\n",
        "import findspark\n",
        "findspark.init()\n",
        "findspark.find()\n",
        "\n",
        "import pyspark\n",
        "\n",
        "from pyspark.sql import DataFrame, SparkSession\n",
        "from typing import List\n",
        "import pyspark.sql.types as T\n",
        "import pyspark.sql.functions as F\n",
        "\n",
        "spark= SparkSession \\\n",
        "       .builder \\\n",
        "       .appName(\"Our First Spark Example\") \\\n",
        "       .getOrCreate()\n",
        "\n",
        "spark"
      ]
    },
    {
      "cell_type": "code",
      "source": [
        "import requests\n",
        "path = \"https://raw.githubusercontent.com/sarahrosegallagher/PySparkDemo/main/clinical_details.csv\"\n",
        "req = requests.get(path)\n",
        "url_content = req.content\n",
        "\n",
        "csv_file_name = 'clinical_details.tsv'\n",
        "csv_file = open(csv_file_name, 'wb')\n",
        "\n",
        "csv_file.write(url_content)\n",
        "csv_file.close()\n",
        "\n",
        "clinical_df = spark.read.csv('/content/'+csv_file_name, header=True, inferSchema=True)\n",
        "clinical_df.show()"
      ],
      "metadata": {
        "colab": {
          "base_uri": "https://localhost:8080/"
        },
        "id": "IrhhfCU-XC9i",
        "outputId": "92d3d527-cd59-45ed-e851-9161884a4a98"
      },
      "execution_count": 3,
      "outputs": [
        {
          "output_type": "stream",
          "name": "stdout",
          "text": [
            "+----------+------------+--------------------+------------------+--------------+\n",
            "|Patient_ID|Cancer_Stage|   Histological_Type|     Tumor_Size_cm|Grade_of_Tumor|\n",
            "+----------+------------+--------------------+------------------+--------------+\n",
            "|         1|   Stage III|            Lymphoma|  8.55040151862427|          High|\n",
            "|         2|   Stage III|            Lymphoma| 8.743641564805078|           Low|\n",
            "|         3|   Stage III|Squamous Cell Car...|3.2522622446427762|          High|\n",
            "|         4|    Stage IV|            Lymphoma|1.3495126098648087|  Intermediate|\n",
            "|         5|    Stage IV|Squamous Cell Car...|3.7293896320590054|           Low|\n",
            "|         6|   Stage III|Squamous Cell Car...| 5.833741844769899|          High|\n",
            "|         7|    Stage IV|Squamous Cell Car...| 3.939861176164368|          High|\n",
            "|         8|     Stage I|Squamous Cell Car...| 8.450821034088298|  Intermediate|\n",
            "|         9|     Stage I|Squamous Cell Car...| 3.443886242377677|           Low|\n",
            "|        10|    Stage IV|      Adenocarcinoma| 9.687266473516928|           Low|\n",
            "|        11|    Stage IV|            Lymphoma| 5.115386454523557|          High|\n",
            "|        12|   Stage III|Squamous Cell Car...| 8.578207675107834|           Low|\n",
            "|        13|    Stage II|            Lymphoma| 2.749420305953857|          High|\n",
            "|        14|    Stage IV|            Lymphoma| 4.702185145510107|           Low|\n",
            "|        15|     Stage I|Squamous Cell Car...| 7.295609896904745|          High|\n",
            "|        16|   Stage III|      Adenocarcinoma|2.2451778317602122|           Low|\n",
            "|        17|    Stage IV|Squamous Cell Car...|2.1947088001867283|  Intermediate|\n",
            "|        18|     Stage I|      Adenocarcinoma|  9.72583180402743|           Low|\n",
            "|        19|     Stage I|            Lymphoma| 7.431355937619569|           Low|\n",
            "|        20|    Stage II|      Adenocarcinoma| 1.369607650910882|  Intermediate|\n",
            "+----------+------------+--------------------+------------------+--------------+\n",
            "only showing top 20 rows\n",
            "\n"
          ]
        }
      ]
    },
    {
      "cell_type": "code",
      "source": [
        "import requests\n",
        "path = \"https://raw.githubusercontent.com/sarahrosegallagher/PySparkDemo/main/clinical_details.csv\"\n",
        "req = requests.get(path)\n",
        "url_content = req.content\n",
        "\n",
        "csv_file_name = 'clinical_details.tsv'\n",
        "csv_file = open(csv_file_name, 'wb')\n",
        "\n",
        "csv_file.write(url_content)\n",
        "csv_file.close()\n",
        "\n",
        "clinical_df = spark.read.csv('/content/'+csv_file_name, header=True, inferSchema=True)\n",
        "clinical_df.show()"
      ],
      "metadata": {
        "colab": {
          "base_uri": "https://localhost:8080/"
        },
        "outputId": "63ecf77d-f5d8-4110-ccb7-0a19fbe68b15",
        "id": "TYbIISHzlyyC"
      },
      "execution_count": 4,
      "outputs": [
        {
          "output_type": "stream",
          "name": "stdout",
          "text": [
            "+----------+------------+--------------------+------------------+--------------+\n",
            "|Patient_ID|Cancer_Stage|   Histological_Type|     Tumor_Size_cm|Grade_of_Tumor|\n",
            "+----------+------------+--------------------+------------------+--------------+\n",
            "|         1|   Stage III|            Lymphoma|  8.55040151862427|          High|\n",
            "|         2|   Stage III|            Lymphoma| 8.743641564805078|           Low|\n",
            "|         3|   Stage III|Squamous Cell Car...|3.2522622446427762|          High|\n",
            "|         4|    Stage IV|            Lymphoma|1.3495126098648087|  Intermediate|\n",
            "|         5|    Stage IV|Squamous Cell Car...|3.7293896320590054|           Low|\n",
            "|         6|   Stage III|Squamous Cell Car...| 5.833741844769899|          High|\n",
            "|         7|    Stage IV|Squamous Cell Car...| 3.939861176164368|          High|\n",
            "|         8|     Stage I|Squamous Cell Car...| 8.450821034088298|  Intermediate|\n",
            "|         9|     Stage I|Squamous Cell Car...| 3.443886242377677|           Low|\n",
            "|        10|    Stage IV|      Adenocarcinoma| 9.687266473516928|           Low|\n",
            "|        11|    Stage IV|            Lymphoma| 5.115386454523557|          High|\n",
            "|        12|   Stage III|Squamous Cell Car...| 8.578207675107834|           Low|\n",
            "|        13|    Stage II|            Lymphoma| 2.749420305953857|          High|\n",
            "|        14|    Stage IV|            Lymphoma| 4.702185145510107|           Low|\n",
            "|        15|     Stage I|Squamous Cell Car...| 7.295609896904745|          High|\n",
            "|        16|   Stage III|      Adenocarcinoma|2.2451778317602122|           Low|\n",
            "|        17|    Stage IV|Squamous Cell Car...|2.1947088001867283|  Intermediate|\n",
            "|        18|     Stage I|      Adenocarcinoma|  9.72583180402743|           Low|\n",
            "|        19|     Stage I|            Lymphoma| 7.431355937619569|           Low|\n",
            "|        20|    Stage II|      Adenocarcinoma| 1.369607650910882|  Intermediate|\n",
            "+----------+------------+--------------------+------------------+--------------+\n",
            "only showing top 20 rows\n",
            "\n"
          ]
        }
      ]
    },
    {
      "cell_type": "code",
      "source": [
        "import requests\n",
        "path = \"https://raw.githubusercontent.com/sarahrosegallagher/PySparkDemo/main/patient_information.csv\"\n",
        "req = requests.get(path)\n",
        "url_content = req.content\n",
        "\n",
        "csv_file_name = 'patient_information.csv'\n",
        "csv_file = open(csv_file_name, 'wb')\n",
        "\n",
        "csv_file.write(url_content)\n",
        "csv_file.close()\n",
        "\n",
        "patient_df = spark.read.csv('/content/'+csv_file_name, header=True, inferSchema=True)\n",
        "patient_df.show()"
      ],
      "metadata": {
        "colab": {
          "base_uri": "https://localhost:8080/"
        },
        "outputId": "49db6c98-7ab2-4c9c-c0de-94e86d52dd99",
        "id": "1NrLXGsalzJs"
      },
      "execution_count": 5,
      "outputs": [
        {
          "output_type": "stream",
          "name": "stdout",
          "text": [
            "+----------+-----------------+---+------+-------------+\n",
            "|Patient_ID|             Name|Age|Gender|    Diagnosis|\n",
            "+----------+-----------------+---+------+-------------+\n",
            "|         1|  Tracy Hernandez| 56|Female|Breast Cancer|\n",
            "|         2| Michelle Salazar| 69|Female|  Lung Cancer|\n",
            "|         3|     John Roberts| 46|Female|Breast Cancer|\n",
            "|         4|    Holly Parsons| 32|Female| Colon Cancer|\n",
            "|         5| Mrs. Linda Smith| 60|  Male| Colon Cancer|\n",
            "|         6|   Keith Faulkner| 25|Female|Breast Cancer|\n",
            "|         7| Colleen Anderson| 78|  Male| Colon Cancer|\n",
            "|         8|    Gregory Allen| 38|Female| Colon Cancer|\n",
            "|         9| Barbara Williams| 56|Female|Breast Cancer|\n",
            "|        10| Kenneth Williams| 75|  Male|Breast Cancer|\n",
            "|        11|    Johnny Horton| 36|Female| Colon Cancer|\n",
            "|        12|     Amber Thomas| 40|  Male| Colon Cancer|\n",
            "|        13|   Andrew Vazquez| 28|Female| Colon Cancer|\n",
            "|        14|   Jessica Murray| 28|Female|  Lung Cancer|\n",
            "|        15|  Tamara Schaefer| 41|  Male|  Lung Cancer|\n",
            "|        16|     Aaron Wilson| 70|Female|  Lung Cancer|\n",
            "|        17|       Brian Nash| 53|  Male|Breast Cancer|\n",
            "|        18|    Colleen Hayes| 57|Female|  Lung Cancer|\n",
            "|        19|Joseph Williamson| 41|  Male|Breast Cancer|\n",
            "|        20|   Kaitlyn Butler| 20|  Male|Breast Cancer|\n",
            "+----------+-----------------+---+------+-------------+\n",
            "only showing top 20 rows\n",
            "\n"
          ]
        }
      ]
    },
    {
      "cell_type": "code",
      "source": [
        "import requests\n",
        "path = \"https://raw.githubusercontent.com/sarahrosegallagher/PySparkDemo/main/treatment_information.csv\"\n",
        "req = requests.get(path)\n",
        "url_content = req.content\n",
        "\n",
        "csv_file_name = 'treatment_information.csv'\n",
        "csv_file = open(csv_file_name, 'wb')\n",
        "\n",
        "csv_file.write(url_content)\n",
        "csv_file.close()\n",
        "\n",
        "treatment_df = spark.read.csv('/content/'+csv_file_name, header=True, inferSchema=True)\n",
        "treatment_df.show()"
      ],
      "metadata": {
        "colab": {
          "base_uri": "https://localhost:8080/"
        },
        "outputId": "90e1a89e-a881-4987-e994-9faeb0d869d4",
        "id": "exXmhqUOl0OK"
      },
      "execution_count": 6,
      "outputs": [
        {
          "output_type": "stream",
          "name": "stdout",
          "text": [
            "+----------+-----------------+--------------------+------------------+\n",
            "|Patient_ID|   Treatment_Type|Treatment_Start_Date|            Dosage|\n",
            "+----------+-----------------+--------------------+------------------+\n",
            "|         1|Radiation Therapy|          2023-10-23|174.37463310597718|\n",
            "|         2|     Chemotherapy|          2022-09-27|135.36222037486215|\n",
            "|         3|Radiation Therapy|          2021-11-26|  59.5267744385002|\n",
            "|         4|          Surgery|          2023-07-10| 55.52328014539871|\n",
            "|         5|          Surgery|          2023-08-09| 70.07781782009498|\n",
            "|         6|     Chemotherapy|          2021-10-27|52.050794724049595|\n",
            "|         7|     Chemotherapy|          2022-04-26| 61.30385905286935|\n",
            "|         8|     Chemotherapy|          2022-05-17| 153.7571595753368|\n",
            "|         9|          Surgery|          2020-10-31|130.15194125441946|\n",
            "|        10|Radiation Therapy|          2021-06-25|162.48661242049576|\n",
            "|        11|          Surgery|          2020-06-27|186.97486283864643|\n",
            "|        12|Radiation Therapy|          2021-04-08| 137.7724298488208|\n",
            "|        13|          Surgery|          2020-12-21|158.91812661077722|\n",
            "|        14|Radiation Therapy|          2021-07-05|163.56218030636836|\n",
            "|        15|          Surgery|          2021-05-20|106.67758239136796|\n",
            "|        16|     Chemotherapy|          2023-06-26| 86.16272484944477|\n",
            "|        17|          Surgery|          2024-01-13| 80.75679927597874|\n",
            "|        18|Radiation Therapy|          2022-03-14| 87.71636592676977|\n",
            "|        19|          Surgery|          2022-11-13| 91.20976955388632|\n",
            "|        20|          Surgery|          2022-07-29| 81.08414735120847|\n",
            "+----------+-----------------+--------------------+------------------+\n",
            "only showing top 20 rows\n",
            "\n"
          ]
        }
      ]
    },
    {
      "cell_type": "markdown",
      "source": [
        "Investigate & Explore Data"
      ],
      "metadata": {
        "id": "kYY0Za-Bp-Sj"
      }
    },
    {
      "cell_type": "code",
      "source": [
        "patient_df.printSchema()"
      ],
      "metadata": {
        "colab": {
          "base_uri": "https://localhost:8080/"
        },
        "id": "VCeUU9yOp9F9",
        "outputId": "09f9f8f5-e152-495d-c09e-4a08c3ad98be"
      },
      "execution_count": 7,
      "outputs": [
        {
          "output_type": "stream",
          "name": "stdout",
          "text": [
            "root\n",
            " |-- Patient_ID: integer (nullable = true)\n",
            " |-- Name: string (nullable = true)\n",
            " |-- Age: integer (nullable = true)\n",
            " |-- Gender: string (nullable = true)\n",
            " |-- Diagnosis: string (nullable = true)\n",
            "\n"
          ]
        }
      ]
    },
    {
      "cell_type": "code",
      "source": [
        "def check_nulls(df: DataFrame):\n",
        "  for column in patient_df.columns:\n",
        "    null_records_count = patient_df.filter(F.col(column).isNull()).count()\n",
        "\n",
        "    if null_records_count > 0:\n",
        "      print(f\"Column '{column}' has {null_records_count} null records\")\n",
        "    elif null_records_count == 0:\n",
        "      print(f\"Column {column} has no null records\")\n"
      ],
      "metadata": {
        "id": "Oo5vMdvdtQOB"
      },
      "execution_count": 8,
      "outputs": []
    },
    {
      "cell_type": "code",
      "source": [
        "check_nulls(patient_df)"
      ],
      "metadata": {
        "colab": {
          "base_uri": "https://localhost:8080/"
        },
        "id": "rOZ6JykytclA",
        "outputId": "0a854925-7abe-4821-f5d3-3bc9c211cd5a"
      },
      "execution_count": 9,
      "outputs": [
        {
          "output_type": "stream",
          "name": "stdout",
          "text": [
            "Column Patient_ID has no null records\n",
            "Column Name has no null records\n",
            "Column Age has no null records\n",
            "Column Gender has no null records\n",
            "Column Diagnosis has no null records\n"
          ]
        }
      ]
    },
    {
      "cell_type": "code",
      "source": [
        "check_nulls(treatment_df)"
      ],
      "metadata": {
        "colab": {
          "base_uri": "https://localhost:8080/"
        },
        "id": "SnTI5IuOp9Rv",
        "outputId": "42fdf2ec-e5c9-45ff-d873-f5c81a6784a5"
      },
      "execution_count": 10,
      "outputs": [
        {
          "output_type": "stream",
          "name": "stdout",
          "text": [
            "Column Patient_ID has no null records\n",
            "Column Name has no null records\n",
            "Column Age has no null records\n",
            "Column Gender has no null records\n",
            "Column Diagnosis has no null records\n"
          ]
        }
      ]
    },
    {
      "cell_type": "code",
      "source": [
        "check_nulls(clinical_df)"
      ],
      "metadata": {
        "colab": {
          "base_uri": "https://localhost:8080/"
        },
        "id": "0pyCjPRzp9VW",
        "outputId": "6691018f-44ee-4c77-f8ff-3cdffc4fe460"
      },
      "execution_count": 11,
      "outputs": [
        {
          "output_type": "stream",
          "name": "stdout",
          "text": [
            "Column Patient_ID has no null records\n",
            "Column Name has no null records\n",
            "Column Age has no null records\n",
            "Column Gender has no null records\n",
            "Column Diagnosis has no null records\n"
          ]
        }
      ]
    },
    {
      "cell_type": "code",
      "source": [
        "print(patient_df.count())\n",
        "print(clinical_df.count())\n",
        "print(treatment_df.count())"
      ],
      "metadata": {
        "colab": {
          "base_uri": "https://localhost:8080/"
        },
        "id": "jP6PbvxCt0lA",
        "outputId": "257e79b8-14be-48c2-aca3-d4b9387a8d8e"
      },
      "execution_count": 12,
      "outputs": [
        {
          "output_type": "stream",
          "name": "stdout",
          "text": [
            "100\n",
            "100\n",
            "100\n"
          ]
        }
      ]
    },
    {
      "cell_type": "code",
      "source": [
        "patient_df.summary().show()"
      ],
      "metadata": {
        "colab": {
          "base_uri": "https://localhost:8080/"
        },
        "id": "cMNAlTtougth",
        "outputId": "e4462f31-da00-44e7-9d86-45f99e970444"
      },
      "execution_count": 13,
      "outputs": [
        {
          "output_type": "stream",
          "name": "stdout",
          "text": [
            "+-------+------------------+------------+------------------+------+-------------+\n",
            "|summary|        Patient_ID|        Name|               Age|Gender|    Diagnosis|\n",
            "+-------+------------------+------------+------------------+------+-------------+\n",
            "|  count|               100|         100|               100|   100|          100|\n",
            "|   mean|              50.5|        NULL|             50.27|  NULL|         NULL|\n",
            "| stddev|29.011491975882016|        NULL|19.176403323992865|  NULL|         NULL|\n",
            "|    min|                 1|Aaron Wilson|                19|Female|Breast Cancer|\n",
            "|    25%|                25|        NULL|                34|  NULL|         NULL|\n",
            "|    50%|                50|        NULL|                51|  NULL|         NULL|\n",
            "|    75%|                75|        NULL|                68|  NULL|         NULL|\n",
            "|    max|               100| Wayne Smith|                79|  Male|  Lung Cancer|\n",
            "+-------+------------------+------------+------------------+------+-------------+\n",
            "\n"
          ]
        }
      ]
    },
    {
      "cell_type": "code",
      "source": [
        "clinical_df.summary().show()"
      ],
      "metadata": {
        "colab": {
          "base_uri": "https://localhost:8080/"
        },
        "id": "aDOQnf85vD6H",
        "outputId": "12a29960-061d-4ba0-a28e-f3d79869aaee"
      },
      "execution_count": 14,
      "outputs": [
        {
          "output_type": "stream",
          "name": "stdout",
          "text": [
            "+-------+------------------+------------+--------------------+------------------+--------------+\n",
            "|summary|        Patient_ID|Cancer_Stage|   Histological_Type|     Tumor_Size_cm|Grade_of_Tumor|\n",
            "+-------+------------------+------------+--------------------+------------------+--------------+\n",
            "|  count|               100|         100|                 100|               100|           100|\n",
            "|   mean|              50.5|        NULL|                NULL| 5.392475494287356|          NULL|\n",
            "| stddev|29.011491975882016|        NULL|                NULL|2.6552666350625533|          NULL|\n",
            "|    min|                 1|     Stage I|      Adenocarcinoma|1.1377408626134629|          High|\n",
            "|    25%|                25|        NULL|                NULL| 3.158086232416629|          NULL|\n",
            "|    50%|                50|        NULL|                NULL| 5.115386454523557|          NULL|\n",
            "|    75%|                75|        NULL|                NULL| 7.431355937619569|          NULL|\n",
            "|    max|               100|    Stage IV|Squamous Cell Car...| 9.815594757593576|           Low|\n",
            "+-------+------------------+------------+--------------------+------------------+--------------+\n",
            "\n"
          ]
        }
      ]
    },
    {
      "cell_type": "code",
      "source": [
        "treatment_df.summary().show()"
      ],
      "metadata": {
        "colab": {
          "base_uri": "https://localhost:8080/"
        },
        "id": "6VqZoxl4vOe_",
        "outputId": "b23a7f13-95e4-43af-b7c4-04efa0b84a0b"
      },
      "execution_count": 15,
      "outputs": [
        {
          "output_type": "stream",
          "name": "stdout",
          "text": [
            "+-------+------------------+--------------+------------------+\n",
            "|summary|        Patient_ID|Treatment_Type|            Dosage|\n",
            "+-------+------------------+--------------+------------------+\n",
            "|  count|               100|           100|               100|\n",
            "|   mean|              50.5|          NULL|124.29488646391448|\n",
            "| stddev|29.011491975882016|          NULL|  41.9404369348223|\n",
            "|    min|                 1|  Chemotherapy| 50.38925365754699|\n",
            "|    25%|                25|          NULL|  90.3008723037961|\n",
            "|    50%|                50|          NULL|128.54034140225167|\n",
            "|    75%|                75|          NULL|158.91812661077722|\n",
            "|    max|               100|       Surgery|197.93854938002227|\n",
            "+-------+------------------+--------------+------------------+\n",
            "\n"
          ]
        }
      ]
    },
    {
      "cell_type": "code",
      "source": [
        "diagnosis_value_count = patient_df.groupBy(\"Diagnosis\").count()\n",
        "\n",
        "total_count = patient_df.count()\n",
        "\n",
        "percentage_column = diagnosis_value_count.withColumn(\"Diagnosis_Percentage\", (F.col(\"count\")/total_count) * 100)"
      ],
      "metadata": {
        "id": "55n-sEEsvOTg"
      },
      "execution_count": 17,
      "outputs": []
    },
    {
      "cell_type": "code",
      "source": [
        "percentage_column.show()"
      ],
      "metadata": {
        "colab": {
          "base_uri": "https://localhost:8080/"
        },
        "id": "Ml6T32RUVm1X",
        "outputId": "f688871f-245a-4e07-a815-6f3a71d87479"
      },
      "execution_count": 19,
      "outputs": [
        {
          "output_type": "stream",
          "name": "stdout",
          "text": [
            "+-------------+-----+--------------------+\n",
            "|    Diagnosis|count|Diagnosis_Percentage|\n",
            "+-------------+-----+--------------------+\n",
            "|  Lung Cancer|   32|                32.0|\n",
            "| Colon Cancer|   33|                33.0|\n",
            "|Breast Cancer|   35|                35.0|\n",
            "+-------------+-----+--------------------+\n",
            "\n"
          ]
        }
      ]
    },
    {
      "cell_type": "markdown",
      "source": [
        "Joining and Filtering"
      ],
      "metadata": {
        "id": "vFE6JsSzX1Eu"
      }
    },
    {
      "cell_type": "code",
      "source": [
        "#Breast Cancer Histology, Stage, and Treatment\n",
        "\n",
        "bc_patient_df = patient_df.filter(patient_df.Diagnosis == 'Breast Cancer')\n",
        "\n",
        "bc_df = bc_patient_df.join(clinical_df, on=\"Patient_ID\").join(treatment_df, on = \"Patient_ID\")\n",
        "\n",
        "bc_df.show()"
      ],
      "metadata": {
        "colab": {
          "base_uri": "https://localhost:8080/"
        },
        "id": "pd89OjXeVnCN",
        "outputId": "85fb5a7b-cc65-4855-97b2-55ea7881ec72"
      },
      "execution_count": 31,
      "outputs": [
        {
          "output_type": "stream",
          "name": "stdout",
          "text": [
            "+----------+-----------------+---+------+-------------+------------+--------------------+------------------+--------------+-----------------+--------------------+------------------+\n",
            "|Patient_ID|             Name|Age|Gender|    Diagnosis|Cancer_Stage|   Histological_Type|     Tumor_Size_cm|Grade_of_Tumor|   Treatment_Type|Treatment_Start_Date|            Dosage|\n",
            "+----------+-----------------+---+------+-------------+------------+--------------------+------------------+--------------+-----------------+--------------------+------------------+\n",
            "|         1|  Tracy Hernandez| 56|Female|Breast Cancer|   Stage III|            Lymphoma|  8.55040151862427|          High|Radiation Therapy|          2023-10-23|174.37463310597718|\n",
            "|         3|     John Roberts| 46|Female|Breast Cancer|   Stage III|Squamous Cell Car...|3.2522622446427762|          High|Radiation Therapy|          2021-11-26|  59.5267744385002|\n",
            "|         6|   Keith Faulkner| 25|Female|Breast Cancer|   Stage III|Squamous Cell Car...| 5.833741844769899|          High|     Chemotherapy|          2021-10-27|52.050794724049595|\n",
            "|         9| Barbara Williams| 56|Female|Breast Cancer|     Stage I|Squamous Cell Car...| 3.443886242377677|           Low|          Surgery|          2020-10-31|130.15194125441946|\n",
            "|        10| Kenneth Williams| 75|  Male|Breast Cancer|    Stage IV|      Adenocarcinoma| 9.687266473516928|           Low|Radiation Therapy|          2021-06-25|162.48661242049576|\n",
            "|        17|       Brian Nash| 53|  Male|Breast Cancer|    Stage IV|Squamous Cell Car...|2.1947088001867283|  Intermediate|          Surgery|          2024-01-13| 80.75679927597874|\n",
            "|        19|Joseph Williamson| 41|  Male|Breast Cancer|     Stage I|            Lymphoma| 7.431355937619569|           Low|          Surgery|          2022-11-13| 91.20976955388632|\n",
            "|        20|   Kaitlyn Butler| 20|  Male|Breast Cancer|    Stage II|      Adenocarcinoma| 1.369607650910882|  Intermediate|          Surgery|          2022-07-29| 81.08414735120847|\n",
            "|        27| Lauren Rodriguez| 55|  Male|Breast Cancer|    Stage IV|Squamous Cell Car...|  4.85483027446097|           Low|          Surgery|          2020-07-02|121.43160451835213|\n",
            "|        30|   Michael Rogers| 38|  Male|Breast Cancer|    Stage IV|      Adenocarcinoma| 9.236923548638323|           Low|          Surgery|          2023-02-23|172.45786028195937|\n",
            "|        31|   Ashley Higgins| 50|  Male|Breast Cancer|     Stage I|Squamous Cell Car...|  4.98117006757994|          High|     Chemotherapy|          2023-05-23|195.19606481597347|\n",
            "|        32|      Gene Gentry| 29|  Male|Breast Cancer|    Stage IV|            Lymphoma| 3.158086232416629|  Intermediate|          Surgery|          2022-07-29|63.261233504846984|\n",
            "|        35|      Donna Gomez| 78|  Male|Breast Cancer|    Stage II|      Adenocarcinoma| 9.411525976057387|  Intermediate|Radiation Therapy|          2022-01-22|122.00689505277127|\n",
            "|        36| Catherine Morris| 61|Female|Breast Cancer|     Stage I|      Adenocarcinoma| 6.744435344590153|          High|Radiation Therapy|          2020-05-24|113.08036679976126|\n",
            "|        37|   Sarah Gonzalez| 42|  Male|Breast Cancer|    Stage IV|Squamous Cell Car...|   5.6502663168391|           Low|          Surgery|          2023-02-28|167.70023959164644|\n",
            "|        42|   Lauren Wheeler| 45|  Male|Breast Cancer|    Stage IV|            Lymphoma| 6.094334894446686|           Low|     Chemotherapy|          2021-12-12|197.06940876385667|\n",
            "|        44|   Jorge Phillips| 33|  Male|Breast Cancer|   Stage III|      Adenocarcinoma|2.0814818302507794|          High|Radiation Therapy|          2020-08-21| 145.4966482433424|\n",
            "|        45|         Judy Lee| 32|Female|Breast Cancer|     Stage I|            Lymphoma| 4.076917000447614|           Low|          Surgery|          2023-04-11|133.22234128133385|\n",
            "|        51|  Anthony Johnson| 61|Female|Breast Cancer|   Stage III|            Lymphoma|1.1544499164857522|          High|          Surgery|          2022-03-12| 94.69391773129257|\n",
            "|        52|   Robert Mcclain| 72|  Male|Breast Cancer|    Stage IV|Squamous Cell Car...| 7.870279807035199|  Intermediate|Radiation Therapy|          2022-07-06|128.54034140225167|\n",
            "+----------+-----------------+---+------+-------------+------------+--------------------+------------------+--------------+-----------------+--------------------+------------------+\n",
            "only showing top 20 rows\n",
            "\n"
          ]
        }
      ]
    },
    {
      "cell_type": "code",
      "source": [
        "bc_stage_percentage = bc_df.groupBy(\"Cancer_Stage\").agg(F.count(\"Patient_ID\").alias(\"Total\"),F.round((F.count(\"Patient_ID\") / bc_df.count()) * 100, 2).alias(\"Percentage\"))"
      ],
      "metadata": {
        "id": "TynQRAvUvOH4"
      },
      "execution_count": 34,
      "outputs": []
    },
    {
      "cell_type": "code",
      "source": [
        "def calculate_stage_percentage(df: DataFrame, stage_column: str):\n",
        "  total_count = df.count()\n",
        "\n",
        "  stage_percentage_df = df.groupBy(stage_column).agg(F.count(\"Patient_ID\").alias(\"Total\"),F.round((F.count(\"Patient_ID\")/total_count)*100,2).alias(\"Percentage\"))\n",
        "\n",
        "  return stage_percentage_df"
      ],
      "metadata": {
        "id": "GSK4bwVxcI2y"
      },
      "execution_count": 37,
      "outputs": []
    },
    {
      "cell_type": "code",
      "source": [
        "bc_stage_percentage_df = calculate_stage_percentage(bc_df, \"Cancer_Stage\")\n",
        "\n",
        "bc_stage_percentage_df.show()"
      ],
      "metadata": {
        "colab": {
          "base_uri": "https://localhost:8080/"
        },
        "id": "zycjpR59cJCI",
        "outputId": "802b4cdf-c7f8-49da-d3be-eba3cefe9592"
      },
      "execution_count": 38,
      "outputs": [
        {
          "output_type": "stream",
          "name": "stdout",
          "text": [
            "+------------+-----+----------+\n",
            "|Cancer_Stage|Total|Percentage|\n",
            "+------------+-----+----------+\n",
            "|   Stage III|    7|      20.0|\n",
            "|    Stage IV|   14|      40.0|\n",
            "|     Stage I|    9|     25.71|\n",
            "|    Stage II|    5|     14.29|\n",
            "+------------+-----+----------+\n",
            "\n"
          ]
        }
      ]
    },
    {
      "cell_type": "code",
      "source": [
        "bc_histology_percentage_df = calculate_stage_percentage(bc_df,\"Histological_Type\")\n",
        "\n",
        "bc_histology_percentage_df.show()"
      ],
      "metadata": {
        "colab": {
          "base_uri": "https://localhost:8080/"
        },
        "id": "37QTRgLbcJFE",
        "outputId": "b6728c12-5079-4803-e002-f2a384c92769"
      },
      "execution_count": 40,
      "outputs": [
        {
          "output_type": "stream",
          "name": "stdout",
          "text": [
            "+--------------------+-----+----------+\n",
            "|   Histological_Type|Total|Percentage|\n",
            "+--------------------+-----+----------+\n",
            "|            Lymphoma|   13|     37.14|\n",
            "|      Adenocarcinoma|    9|     25.71|\n",
            "|Squamous Cell Car...|   13|     37.14|\n",
            "+--------------------+-----+----------+\n",
            "\n"
          ]
        }
      ]
    },
    {
      "cell_type": "code",
      "source": [],
      "metadata": {
        "id": "4a4IBo7ZcJIu"
      },
      "execution_count": null,
      "outputs": []
    }
  ]
}