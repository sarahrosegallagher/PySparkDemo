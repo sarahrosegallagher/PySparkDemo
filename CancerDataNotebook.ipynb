{
  "nbformat": 4,
  "nbformat_minor": 0,
  "metadata": {
    "colab": {
      "provenance": []
    },
    "kernelspec": {
      "name": "python3",
      "display_name": "Python 3"
    },
    "language_info": {
      "name": "python"
    }
  },
  "cells": [
    {
      "cell_type": "markdown",
      "source": [
        "Imports"
      ],
      "metadata": {
        "id": "UwUIGp5npffd"
      }
    },
    {
      "cell_type": "code",
      "execution_count": 1,
      "metadata": {
        "colab": {
          "base_uri": "https://localhost:8080/",
          "height": 898
        },
        "id": "VVOAPq9yW23b",
        "outputId": "32a92a95-a969-404e-c7de-569b61f4f17a"
      },
      "outputs": [
        {
          "output_type": "stream",
          "name": "stdout",
          "text": [
            "\u001b[33m\r0% [Working]\u001b[0m\r            \rGet:1 https://cloud.r-project.org/bin/linux/ubuntu jammy-cran40/ InRelease [3,626 B]\n",
            "Hit:2 https://developer.download.nvidia.com/compute/cuda/repos/ubuntu2204/x86_64  InRelease\n",
            "Get:3 http://security.ubuntu.com/ubuntu jammy-security InRelease [110 kB]\n",
            "Hit:4 http://archive.ubuntu.com/ubuntu jammy InRelease\n",
            "Get:5 http://archive.ubuntu.com/ubuntu jammy-updates InRelease [119 kB]\n",
            "Hit:6 https://ppa.launchpadcontent.net/c2d4u.team/c2d4u4.0+/ubuntu jammy InRelease\n",
            "Hit:7 https://ppa.launchpadcontent.net/deadsnakes/ppa/ubuntu jammy InRelease\n",
            "Hit:8 https://ppa.launchpadcontent.net/graphics-drivers/ppa/ubuntu jammy InRelease\n",
            "Get:9 http://security.ubuntu.com/ubuntu jammy-security/restricted amd64 Packages [1,676 kB]\n",
            "Hit:10 http://archive.ubuntu.com/ubuntu jammy-backports InRelease\n",
            "Get:11 https://ppa.launchpadcontent.net/ubuntugis/ppa/ubuntu jammy InRelease [23.8 kB]\n",
            "Get:12 http://archive.ubuntu.com/ubuntu jammy-updates/universe amd64 Packages [1,325 kB]\n",
            "Get:13 https://ppa.launchpadcontent.net/ubuntugis/ppa/ubuntu jammy/main amd64 Packages [66.2 kB]\n",
            "Get:14 http://security.ubuntu.com/ubuntu jammy-security/universe amd64 Packages [1,059 kB]\n",
            "Get:15 http://security.ubuntu.com/ubuntu jammy-security/main amd64 Packages [1,390 kB]\n",
            "Get:16 http://archive.ubuntu.com/ubuntu jammy-updates/main amd64 Packages [1,671 kB]\n",
            "Get:17 http://archive.ubuntu.com/ubuntu jammy-updates/restricted amd64 Packages [1,713 kB]\n",
            "Fetched 9,156 kB in 4s (2,513 kB/s)\n",
            "Reading package lists... Done\n",
            "Building dependency tree... Done\n",
            "Reading state information... Done\n",
            "81 packages can be upgraded. Run 'apt list --upgradable' to see them.\n",
            "tar: spark-3.2.1-bin-hadoop3.2.tgz: Cannot open: No such file or directory\n",
            "tar: Error is not recoverable: exiting now\n",
            "Collecting pyspark\n",
            "  Downloading pyspark-3.5.0.tar.gz (316.9 MB)\n",
            "\u001b[2K     \u001b[90m━━━━━━━━━━━━━━━━━━━━━━━━━━━━━━━━━━━━━━━━\u001b[0m \u001b[32m316.9/316.9 MB\u001b[0m \u001b[31m2.8 MB/s\u001b[0m eta \u001b[36m0:00:00\u001b[0m\n",
            "\u001b[?25h  Preparing metadata (setup.py) ... \u001b[?25l\u001b[?25hdone\n",
            "Requirement already satisfied: py4j==0.10.9.7 in /usr/local/lib/python3.10/dist-packages (from pyspark) (0.10.9.7)\n",
            "Building wheels for collected packages: pyspark\n",
            "  Building wheel for pyspark (setup.py) ... \u001b[?25l\u001b[?25hdone\n",
            "  Created wheel for pyspark: filename=pyspark-3.5.0-py2.py3-none-any.whl size=317425345 sha256=4107971937c0e3e2c8a297f34c038bb238ca42931ce14e0502fb6fb549c6c7a0\n",
            "  Stored in directory: /root/.cache/pip/wheels/41/4e/10/c2cf2467f71c678cfc8a6b9ac9241e5e44a01940da8fbb17fc\n",
            "Successfully built pyspark\n",
            "Installing collected packages: pyspark\n",
            "Successfully installed pyspark-3.5.0\n",
            "Requirement already satisfied: py4j in /usr/local/lib/python3.10/dist-packages (0.10.9.7)\n"
          ]
        },
        {
          "output_type": "execute_result",
          "data": {
            "text/plain": [
              "<pyspark.sql.session.SparkSession at 0x7ed7dc0f9720>"
            ],
            "text/html": [
              "\n",
              "            <div>\n",
              "                <p><b>SparkSession - in-memory</b></p>\n",
              "                \n",
              "        <div>\n",
              "            <p><b>SparkContext</b></p>\n",
              "\n",
              "            <p><a href=\"http://5da281273df0:4040\">Spark UI</a></p>\n",
              "\n",
              "            <dl>\n",
              "              <dt>Version</dt>\n",
              "                <dd><code>v3.5.0</code></dd>\n",
              "              <dt>Master</dt>\n",
              "                <dd><code>local[*]</code></dd>\n",
              "              <dt>AppName</dt>\n",
              "                <dd><code>OncoData</code></dd>\n",
              "            </dl>\n",
              "        </div>\n",
              "        \n",
              "            </div>\n",
              "        "
            ]
          },
          "metadata": {},
          "execution_count": 1
        }
      ],
      "source": [
        "!sudo apt update\n",
        "!apt-get install openjdk-8-jdk-headless -qq > /dev/null\n",
        "!wget -q https://dlcdn.apache.org/spark/spark-3.2.1/spark-3.2.1-bin-hadoop3.2.tgz\n",
        "!tar xf spark-3.2.1-bin-hadoop3.2.tgz\n",
        "!pip install -q findspark\n",
        "!pip install pyspark\n",
        "!pip install py4j\n",
        "\n",
        "import os\n",
        "import sys\n",
        "\n",
        "import findspark\n",
        "findspark.init()\n",
        "findspark.find()\n",
        "\n",
        "import pyspark\n",
        "\n",
        "from pyspark.sql import DataFrame, SparkSession\n",
        "import pyspark.sql.types as T\n",
        "import pyspark.sql.functions as F\n",
        "\n",
        "spark= SparkSession \\\n",
        "       .builder \\\n",
        "       .appName(\"OncoData\") \\\n",
        "       .getOrCreate()\n",
        "\n",
        "spark"
      ]
    },
    {
      "cell_type": "code",
      "source": [
        "from pyspark.sql.window import Window\n"
      ],
      "metadata": {
        "id": "Bf8JeWyqKhEL"
      },
      "execution_count": 2,
      "outputs": []
    },
    {
      "cell_type": "markdown",
      "source": [
        "Create Dataframes from CSVs"
      ],
      "metadata": {
        "id": "xn1MrNX2pjFC"
      }
    },
    {
      "cell_type": "code",
      "source": [
        "import requests\n",
        "\n",
        "path = \"https://raw.githubusercontent.com/sarahrosegallagher/PySparkDemo/main/clinical_details.csv\"\n",
        "req = requests.get(path)\n",
        "url_content = req.content\n",
        "\n",
        "csv_file_name = 'clinical_details.csv'\n",
        "csv_file = open(csv_file_name, 'wb')\n",
        "\n",
        "csv_file.write(url_content)\n",
        "csv_file.close()\n",
        "\n",
        "clinical_df = spark.read.csv('/content/'+csv_file_name, header=True, inferSchema=True)\n",
        "clinical_df.show()"
      ],
      "metadata": {
        "colab": {
          "base_uri": "https://localhost:8080/"
        },
        "outputId": "9d5d60ab-d598-4024-dc1d-140c05367dd6",
        "id": "TYbIISHzlyyC"
      },
      "execution_count": 3,
      "outputs": [
        {
          "output_type": "stream",
          "name": "stdout",
          "text": [
            "+----------+------------+--------------------+------------------+--------------+\n",
            "|Patient_ID|Cancer_Stage|   Histological_Type|     Tumor_Size_cm|Grade_of_Tumor|\n",
            "+----------+------------+--------------------+------------------+--------------+\n",
            "|         1|   Stage III|            Lymphoma|  8.55040151862427|          High|\n",
            "|         2|   Stage III|            Lymphoma| 8.743641564805078|           Low|\n",
            "|         3|   Stage III|Squamous Cell Car...|3.2522622446427762|          High|\n",
            "|         4|    Stage IV|            Lymphoma|1.3495126098648087|  Intermediate|\n",
            "|         5|    Stage IV|Squamous Cell Car...|3.7293896320590054|           Low|\n",
            "|         6|   Stage III|Squamous Cell Car...| 5.833741844769899|          High|\n",
            "|         7|    Stage IV|Squamous Cell Car...| 3.939861176164368|          High|\n",
            "|         8|     Stage I|Squamous Cell Car...| 8.450821034088298|  Intermediate|\n",
            "|         9|     Stage I|Squamous Cell Car...| 3.443886242377677|           Low|\n",
            "|        10|    Stage IV|      Adenocarcinoma| 9.687266473516928|           Low|\n",
            "|        11|    Stage IV|            Lymphoma| 5.115386454523557|          High|\n",
            "|        12|   Stage III|Squamous Cell Car...| 8.578207675107834|           Low|\n",
            "|        13|    Stage II|            Lymphoma| 2.749420305953857|          High|\n",
            "|        14|    Stage IV|            Lymphoma| 4.702185145510107|           Low|\n",
            "|        15|     Stage I|Squamous Cell Car...| 7.295609896904745|          High|\n",
            "|        16|   Stage III|      Adenocarcinoma|2.2451778317602122|           Low|\n",
            "|        17|    Stage IV|Squamous Cell Car...|2.1947088001867283|  Intermediate|\n",
            "|        18|     Stage I|      Adenocarcinoma|  9.72583180402743|           Low|\n",
            "|        19|     Stage I|            Lymphoma| 7.431355937619569|           Low|\n",
            "|        20|    Stage II|      Adenocarcinoma| 1.369607650910882|  Intermediate|\n",
            "+----------+------------+--------------------+------------------+--------------+\n",
            "only showing top 20 rows\n",
            "\n"
          ]
        }
      ]
    },
    {
      "cell_type": "code",
      "source": [
        "\n",
        "path = \"https://raw.githubusercontent.com/sarahrosegallagher/PySparkDemo/main/insurance_information.csv\"\n",
        "req = requests.get(path)\n",
        "url_content = req.content\n",
        "\n",
        "csv_file_name = 'insurance_information.csv'\n",
        "csv_file = open(csv_file_name, 'wb')\n",
        "\n",
        "csv_file.write(url_content)\n",
        "csv_file.close()\n",
        "\n",
        "insurance_df = spark.read.csv('/content/'+csv_file_name, header=True, inferSchema=True)\n",
        "insurance_df.show()"
      ],
      "metadata": {
        "colab": {
          "base_uri": "https://localhost:8080/"
        },
        "outputId": "fb5cbb08-80bc-490c-c7b5-7408a672d270",
        "id": "Cil0H6KvDFp8"
      },
      "execution_count": 4,
      "outputs": [
        {
          "output_type": "stream",
          "name": "stdout",
          "text": [
            "+----------+----------+--------------------+----------+-----+-------------+\n",
            "|Patient_ID|      Date|       Provider_Name|Deductible|Copay|Coverage_Type|\n",
            "+----------+----------+--------------------+----------+-----+-------------+\n",
            "|         1|2022-03-12|    UnitedHealthcare|    1604.0| 32.0|          HMO|\n",
            "|         1|2022-11-09|              Humana|     842.0| 21.0|          PPO|\n",
            "|         1|2022-10-28|               Cigna|    1358.0| 43.0|         NULL|\n",
            "|         1|2021-11-12|               Cigna|      NULL| 35.0|          EPO|\n",
            "|         2|2021-06-19|                NULL|    2654.0| 23.0|         NULL|\n",
            "|         2|2023-09-22|               Cigna|    1298.0| 50.0|          EPO|\n",
            "|         3|2021-03-07|Blue Cross Blue S...|     818.0| 47.0|          HMO|\n",
            "|         3|2021-10-14|               Aetna|    3071.0| NULL|          HMO|\n",
            "|         3|2023-01-14|                NULL|    1941.0| NULL|          HMO|\n",
            "|         4|2023-01-25|                NULL|     633.0| 20.0|          HMO|\n",
            "|         4|2022-07-16|    UnitedHealthcare|    3404.0| 41.0|          PPO|\n",
            "|         5|2021-08-17|    UnitedHealthcare|      NULL| 37.0|          HMO|\n",
            "|         5|2021-01-27|    UnitedHealthcare|    3838.0| NULL|          PPO|\n",
            "|         5|2022-07-30|                NULL|      NULL| 30.0|          HMO|\n",
            "|         5|2022-09-23|                NULL|     540.0| 24.0|          PPO|\n",
            "|         6|2023-02-13|    UnitedHealthcare|     613.0| 30.0|         NULL|\n",
            "|         6|2022-01-16|               Aetna|    2652.0| NULL|         NULL|\n",
            "|         6|2023-12-07|Blue Cross Blue S...|    3461.0| NULL|          HMO|\n",
            "|         7|2021-05-10|               Aetna|      NULL| 28.0|         NULL|\n",
            "|         7|2022-02-18|Blue Cross Blue S...|      NULL| 44.0|          HMO|\n",
            "+----------+----------+--------------------+----------+-----+-------------+\n",
            "only showing top 20 rows\n",
            "\n"
          ]
        }
      ]
    },
    {
      "cell_type": "code",
      "source": [
        "path = \"https://raw.githubusercontent.com/sarahrosegallagher/PySparkDemo/main/patient_information.csv\"\n",
        "req = requests.get(path)\n",
        "url_content = req.content\n",
        "\n",
        "csv_file_name = 'patient_information.csv'\n",
        "csv_file = open(csv_file_name, 'wb')\n",
        "\n",
        "csv_file.write(url_content)\n",
        "csv_file.close()\n",
        "\n",
        "patient_df = spark.read.csv('/content/'+csv_file_name, header=True, inferSchema=True)\n",
        "patient_df.show()"
      ],
      "metadata": {
        "colab": {
          "base_uri": "https://localhost:8080/"
        },
        "outputId": "232beab8-720d-4596-99e3-61a274f5c5cc",
        "id": "1NrLXGsalzJs"
      },
      "execution_count": 5,
      "outputs": [
        {
          "output_type": "stream",
          "name": "stdout",
          "text": [
            "+----------+-----------------+---+------+-------------+\n",
            "|Patient_ID|             Name|Age|Gender|    Diagnosis|\n",
            "+----------+-----------------+---+------+-------------+\n",
            "|         1|  Tracy Hernandez| 56|Female|Breast Cancer|\n",
            "|         2| Michelle Salazar| 69|Female|  Lung Cancer|\n",
            "|         3|     John Roberts| 46|Female|Breast Cancer|\n",
            "|         4|    Holly Parsons| 32|Female| Colon Cancer|\n",
            "|         5| Mrs. Linda Smith| 60|  Male| Colon Cancer|\n",
            "|         6|   Keith Faulkner| 25|Female|Breast Cancer|\n",
            "|         7| Colleen Anderson| 78|  Male| Colon Cancer|\n",
            "|         8|    Gregory Allen| 38|Female| Colon Cancer|\n",
            "|         9| Barbara Williams| 56|Female|Breast Cancer|\n",
            "|        10| Kenneth Williams| 75|  Male|Breast Cancer|\n",
            "|        11|    Johnny Horton| 36|Female| Colon Cancer|\n",
            "|        12|     Amber Thomas| 40|  Male| Colon Cancer|\n",
            "|        13|   Andrew Vazquez| 28|Female| Colon Cancer|\n",
            "|        14|   Jessica Murray| 28|Female|  Lung Cancer|\n",
            "|        15|  Tamara Schaefer| 41|  Male|  Lung Cancer|\n",
            "|        16|     Aaron Wilson| 70|Female|  Lung Cancer|\n",
            "|        17|       Brian Nash| 53|  Male|Breast Cancer|\n",
            "|        18|    Colleen Hayes| 57|Female|  Lung Cancer|\n",
            "|        19|Joseph Williamson| 41|  Male|Breast Cancer|\n",
            "|        20|   Kaitlyn Butler| 20|  Male|Breast Cancer|\n",
            "+----------+-----------------+---+------+-------------+\n",
            "only showing top 20 rows\n",
            "\n"
          ]
        }
      ]
    },
    {
      "cell_type": "code",
      "source": [
        "path = \"https://raw.githubusercontent.com/sarahrosegallagher/PySparkDemo/main/treatment_information.csv\"\n",
        "req = requests.get(path)\n",
        "url_content = req.content\n",
        "\n",
        "csv_file_name = 'treatment_information.csv'\n",
        "csv_file = open(csv_file_name, 'wb')\n",
        "\n",
        "csv_file.write(url_content)\n",
        "csv_file.close()\n",
        "\n",
        "treatment_df = spark.read.csv('/content/'+csv_file_name, header=True, inferSchema=True)\n",
        "treatment_df.show()"
      ],
      "metadata": {
        "colab": {
          "base_uri": "https://localhost:8080/"
        },
        "outputId": "d86f2fd9-7e99-471b-cfc7-c775f49d96d3",
        "id": "exXmhqUOl0OK"
      },
      "execution_count": 6,
      "outputs": [
        {
          "output_type": "stream",
          "name": "stdout",
          "text": [
            "+----------+-----------------+--------------------+------------------+\n",
            "|Patient_ID|   Treatment_Type|Treatment_Start_Date|            Dosage|\n",
            "+----------+-----------------+--------------------+------------------+\n",
            "|         1|Radiation Therapy|          2023-10-23|174.37463310597718|\n",
            "|         2|     Chemotherapy|          2022-09-27|135.36222037486215|\n",
            "|         3|Radiation Therapy|          2021-11-26|  59.5267744385002|\n",
            "|         4|          Surgery|          2023-07-10| 55.52328014539871|\n",
            "|         5|          Surgery|          2023-08-09| 70.07781782009498|\n",
            "|         6|     Chemotherapy|          2021-10-27|52.050794724049595|\n",
            "|         7|     Chemotherapy|          2022-04-26| 61.30385905286935|\n",
            "|         8|     Chemotherapy|          2022-05-17| 153.7571595753368|\n",
            "|         9|          Surgery|          2020-10-31|130.15194125441946|\n",
            "|        10|Radiation Therapy|          2021-06-25|162.48661242049576|\n",
            "|        11|          Surgery|          2020-06-27|186.97486283864643|\n",
            "|        12|Radiation Therapy|          2021-04-08| 137.7724298488208|\n",
            "|        13|          Surgery|          2020-12-21|158.91812661077722|\n",
            "|        14|Radiation Therapy|          2021-07-05|163.56218030636836|\n",
            "|        15|          Surgery|          2021-05-20|106.67758239136796|\n",
            "|        16|     Chemotherapy|          2023-06-26| 86.16272484944477|\n",
            "|        17|          Surgery|          2024-01-13| 80.75679927597874|\n",
            "|        18|Radiation Therapy|          2022-03-14| 87.71636592676977|\n",
            "|        19|          Surgery|          2022-11-13| 91.20976955388632|\n",
            "|        20|          Surgery|          2022-07-29| 81.08414735120847|\n",
            "+----------+-----------------+--------------------+------------------+\n",
            "only showing top 20 rows\n",
            "\n"
          ]
        }
      ]
    },
    {
      "cell_type": "markdown",
      "source": [
        "Inspecting and Curating Data"
      ],
      "metadata": {
        "id": "qCMcp6Rd_wvN"
      }
    },
    {
      "cell_type": "code",
      "source": [
        "def check_nulls(df: DataFrame):\n",
        "  for column in df.columns:\n",
        "    null_records_count = df.filter(F.col(column).isNull()).count()\n",
        "\n",
        "    if null_records_count > 0:\n",
        "      print(f\"Column '{column}' has {null_records_count} null records\")\n",
        "    elif null_records_count == 0:\n",
        "      print(f\"Column {column} has no null records\")\n"
      ],
      "metadata": {
        "id": "Oo5vMdvdtQOB"
      },
      "execution_count": 7,
      "outputs": []
    },
    {
      "cell_type": "code",
      "source": [
        "insurance_df.printSchema()"
      ],
      "metadata": {
        "id": "GKT65IZx_wQk",
        "colab": {
          "base_uri": "https://localhost:8080/"
        },
        "outputId": "d79a3799-2da1-482f-e581-9faf9ccbab60"
      },
      "execution_count": 8,
      "outputs": [
        {
          "output_type": "stream",
          "name": "stdout",
          "text": [
            "root\n",
            " |-- Patient_ID: integer (nullable = true)\n",
            " |-- Date: date (nullable = true)\n",
            " |-- Provider_Name: string (nullable = true)\n",
            " |-- Deductible: double (nullable = true)\n",
            " |-- Copay: double (nullable = true)\n",
            " |-- Coverage_Type: string (nullable = true)\n",
            "\n"
          ]
        }
      ]
    },
    {
      "cell_type": "code",
      "source": [
        "check_nulls(insurance_df)"
      ],
      "metadata": {
        "colab": {
          "base_uri": "https://localhost:8080/"
        },
        "id": "eCUVerGZEI7l",
        "outputId": "7fb01257-f620-41d9-af33-126ef5dbf12e"
      },
      "execution_count": 9,
      "outputs": [
        {
          "output_type": "stream",
          "name": "stdout",
          "text": [
            "Column Patient_ID has no null records\n",
            "Column Date has no null records\n",
            "Column 'Provider_Name' has 57 null records\n",
            "Column 'Deductible' has 68 null records\n",
            "Column 'Copay' has 52 null records\n",
            "Column 'Coverage_Type' has 67 null records\n"
          ]
        }
      ]
    },
    {
      "cell_type": "code",
      "source": [
        "#identify instances where provider name is null\n",
        "null_insurance = insurance_df\\\n",
        ".where((F.col('Provider_Name').isNull()))\\\n",
        ".select('Patient_ID','Date','Provider_Name')\n",
        "\n",
        "null_insurance.show()"
      ],
      "metadata": {
        "colab": {
          "base_uri": "https://localhost:8080/"
        },
        "id": "4vPy8BzFEnzx",
        "outputId": "5762d13d-1095-493b-ceb2-bb576b4136ff"
      },
      "execution_count": 10,
      "outputs": [
        {
          "output_type": "stream",
          "name": "stdout",
          "text": [
            "+----------+----------+-------------+\n",
            "|Patient_ID|      Date|Provider_Name|\n",
            "+----------+----------+-------------+\n",
            "|         2|2021-06-19|         NULL|\n",
            "|         3|2023-01-14|         NULL|\n",
            "|         4|2023-01-25|         NULL|\n",
            "|         5|2022-07-30|         NULL|\n",
            "|         5|2022-09-23|         NULL|\n",
            "|         8|2021-07-22|         NULL|\n",
            "|         9|2022-10-28|         NULL|\n",
            "|        10|2021-03-29|         NULL|\n",
            "|        10|2022-04-01|         NULL|\n",
            "|        10|2021-07-18|         NULL|\n",
            "|        12|2022-04-02|         NULL|\n",
            "|        13|2021-08-27|         NULL|\n",
            "|        18|2022-09-21|         NULL|\n",
            "|        18|2023-11-07|         NULL|\n",
            "|        20|2021-08-05|         NULL|\n",
            "|        21|2021-08-08|         NULL|\n",
            "|        22|2023-08-21|         NULL|\n",
            "|        26|2022-02-24|         NULL|\n",
            "|        29|2023-10-07|         NULL|\n",
            "|        30|2021-08-19|         NULL|\n",
            "+----------+----------+-------------+\n",
            "only showing top 20 rows\n",
            "\n"
          ]
        }
      ]
    },
    {
      "cell_type": "code",
      "source": [
        "window_spec = Window.partitionBy(\"Patient_ID\").orderBy(\"Date\").rowsBetween(Window.unboundedPreceding, 0)\n",
        "\n",
        "insurance_provider_filled = insurance_df.withColumn(\"Provider_Name\", F.last(F.col(\"Provider_Name\"), True).over(window_spec))\\\n",
        "                                        .withColumn(\"Deductible\", F.last(F.col(\"Deductible\"), True).over(window_spec))\\\n",
        "                                        .withColumn(\"Copay\", F.last(F.col(\"Copay\"), True).over(window_spec))\\\n",
        "                                        .withColumn(\"Coverage_Type\", F.last(F.col(\"Coverage_Type\"), True).over(window_spec))\n",
        "\n",
        "insurance_provider_filled.show()"
      ],
      "metadata": {
        "colab": {
          "base_uri": "https://localhost:8080/"
        },
        "id": "31rNgqroWMFc",
        "outputId": "577a8aaf-d155-4ffb-f9ec-953c5014babb"
      },
      "execution_count": 33,
      "outputs": [
        {
          "output_type": "stream",
          "name": "stdout",
          "text": [
            "+----------+----------+--------------------+----------+-----+-------------+\n",
            "|Patient_ID|      Date|       Provider_Name|Deductible|Copay|Coverage_Type|\n",
            "+----------+----------+--------------------+----------+-----+-------------+\n",
            "|         1|2021-11-12|               Cigna|      NULL| 35.0|          EPO|\n",
            "|         1|2022-03-12|    UnitedHealthcare|    1604.0| 32.0|          HMO|\n",
            "|         1|2022-10-28|               Cigna|    1358.0| 43.0|          HMO|\n",
            "|         1|2022-11-09|              Humana|     842.0| 21.0|          PPO|\n",
            "|         2|2021-06-19|                NULL|    2654.0| 23.0|         NULL|\n",
            "|         2|2023-09-22|               Cigna|    1298.0| 50.0|          EPO|\n",
            "|         3|2021-03-07|Blue Cross Blue S...|     818.0| 47.0|          HMO|\n",
            "|         3|2021-10-14|               Aetna|    3071.0| 47.0|          HMO|\n",
            "|         3|2023-01-14|               Aetna|    1941.0| 47.0|          HMO|\n",
            "|         4|2022-07-16|    UnitedHealthcare|    3404.0| 41.0|          PPO|\n",
            "|         4|2023-01-25|    UnitedHealthcare|     633.0| 20.0|          HMO|\n",
            "|         5|2021-01-27|    UnitedHealthcare|    3838.0| NULL|          PPO|\n",
            "|         5|2021-08-17|    UnitedHealthcare|    3838.0| 37.0|          HMO|\n",
            "|         5|2022-07-30|    UnitedHealthcare|    3838.0| 30.0|          HMO|\n",
            "|         5|2022-09-23|    UnitedHealthcare|     540.0| 24.0|          PPO|\n",
            "|         6|2022-01-16|               Aetna|    2652.0| NULL|         NULL|\n",
            "|         6|2023-02-13|    UnitedHealthcare|     613.0| 30.0|         NULL|\n",
            "|         6|2023-12-07|Blue Cross Blue S...|    3461.0| 30.0|          HMO|\n",
            "|         7|2021-05-10|               Aetna|      NULL| 28.0|         NULL|\n",
            "|         7|2022-02-18|Blue Cross Blue S...|      NULL| 44.0|          HMO|\n",
            "+----------+----------+--------------------+----------+-----+-------------+\n",
            "only showing top 20 rows\n",
            "\n"
          ]
        }
      ]
    },
    {
      "cell_type": "code",
      "source": [
        "#result - nulls are reduced by about half (did not catch cases where no prior info)\n",
        "check_nulls(insurance_provider_filled)"
      ],
      "metadata": {
        "colab": {
          "base_uri": "https://localhost:8080/"
        },
        "id": "SpiwX-fXXo_F",
        "outputId": "cfb3baed-6a4f-4cf9-c8de-6e80ecd05564"
      },
      "execution_count": 35,
      "outputs": [
        {
          "output_type": "stream",
          "name": "stdout",
          "text": [
            "Column Patient_ID has no null records\n",
            "Column Date has no null records\n",
            "Column 'Provider_Name' has 20 null records\n",
            "Column 'Deductible' has 21 null records\n",
            "Column 'Copay' has 17 null records\n",
            "Column 'Coverage_Type' has 25 null records\n"
          ]
        }
      ]
    },
    {
      "cell_type": "markdown",
      "source": [
        "Investigate & Explore Data"
      ],
      "metadata": {
        "id": "kYY0Za-Bp-Sj"
      }
    },
    {
      "cell_type": "code",
      "source": [
        "patient_df.printSchema()"
      ],
      "metadata": {
        "colab": {
          "base_uri": "https://localhost:8080/"
        },
        "id": "VCeUU9yOp9F9",
        "outputId": "09f9f8f5-e152-495d-c09e-4a08c3ad98be"
      },
      "execution_count": null,
      "outputs": [
        {
          "output_type": "stream",
          "name": "stdout",
          "text": [
            "root\n",
            " |-- Patient_ID: integer (nullable = true)\n",
            " |-- Name: string (nullable = true)\n",
            " |-- Age: integer (nullable = true)\n",
            " |-- Gender: string (nullable = true)\n",
            " |-- Diagnosis: string (nullable = true)\n",
            "\n"
          ]
        }
      ]
    },
    {
      "cell_type": "code",
      "source": [
        "check_nulls(patient_df)"
      ],
      "metadata": {
        "colab": {
          "base_uri": "https://localhost:8080/"
        },
        "id": "rOZ6JykytclA",
        "outputId": "0a854925-7abe-4821-f5d3-3bc9c211cd5a"
      },
      "execution_count": null,
      "outputs": [
        {
          "output_type": "stream",
          "name": "stdout",
          "text": [
            "Column Patient_ID has no null records\n",
            "Column Name has no null records\n",
            "Column Age has no null records\n",
            "Column Gender has no null records\n",
            "Column Diagnosis has no null records\n"
          ]
        }
      ]
    },
    {
      "cell_type": "code",
      "source": [
        "check_nulls(treatment_df)"
      ],
      "metadata": {
        "colab": {
          "base_uri": "https://localhost:8080/"
        },
        "id": "SnTI5IuOp9Rv",
        "outputId": "42fdf2ec-e5c9-45ff-d873-f5c81a6784a5"
      },
      "execution_count": null,
      "outputs": [
        {
          "output_type": "stream",
          "name": "stdout",
          "text": [
            "Column Patient_ID has no null records\n",
            "Column Name has no null records\n",
            "Column Age has no null records\n",
            "Column Gender has no null records\n",
            "Column Diagnosis has no null records\n"
          ]
        }
      ]
    },
    {
      "cell_type": "code",
      "source": [
        "check_nulls(clinical_df)"
      ],
      "metadata": {
        "colab": {
          "base_uri": "https://localhost:8080/"
        },
        "id": "0pyCjPRzp9VW",
        "outputId": "6691018f-44ee-4c77-f8ff-3cdffc4fe460"
      },
      "execution_count": null,
      "outputs": [
        {
          "output_type": "stream",
          "name": "stdout",
          "text": [
            "Column Patient_ID has no null records\n",
            "Column Name has no null records\n",
            "Column Age has no null records\n",
            "Column Gender has no null records\n",
            "Column Diagnosis has no null records\n"
          ]
        }
      ]
    },
    {
      "cell_type": "code",
      "source": [
        "print(patient_df.count())\n",
        "print(clinical_df.count())\n",
        "print(treatment_df.count())"
      ],
      "metadata": {
        "colab": {
          "base_uri": "https://localhost:8080/"
        },
        "id": "jP6PbvxCt0lA",
        "outputId": "257e79b8-14be-48c2-aca3-d4b9387a8d8e"
      },
      "execution_count": null,
      "outputs": [
        {
          "output_type": "stream",
          "name": "stdout",
          "text": [
            "100\n",
            "100\n",
            "100\n"
          ]
        }
      ]
    },
    {
      "cell_type": "code",
      "source": [
        "patient_df.summary().show()"
      ],
      "metadata": {
        "colab": {
          "base_uri": "https://localhost:8080/"
        },
        "id": "cMNAlTtougth",
        "outputId": "e4462f31-da00-44e7-9d86-45f99e970444"
      },
      "execution_count": null,
      "outputs": [
        {
          "output_type": "stream",
          "name": "stdout",
          "text": [
            "+-------+------------------+------------+------------------+------+-------------+\n",
            "|summary|        Patient_ID|        Name|               Age|Gender|    Diagnosis|\n",
            "+-------+------------------+------------+------------------+------+-------------+\n",
            "|  count|               100|         100|               100|   100|          100|\n",
            "|   mean|              50.5|        NULL|             50.27|  NULL|         NULL|\n",
            "| stddev|29.011491975882016|        NULL|19.176403323992865|  NULL|         NULL|\n",
            "|    min|                 1|Aaron Wilson|                19|Female|Breast Cancer|\n",
            "|    25%|                25|        NULL|                34|  NULL|         NULL|\n",
            "|    50%|                50|        NULL|                51|  NULL|         NULL|\n",
            "|    75%|                75|        NULL|                68|  NULL|         NULL|\n",
            "|    max|               100| Wayne Smith|                79|  Male|  Lung Cancer|\n",
            "+-------+------------------+------------+------------------+------+-------------+\n",
            "\n"
          ]
        }
      ]
    },
    {
      "cell_type": "code",
      "source": [
        "clinical_df.summary().show()"
      ],
      "metadata": {
        "colab": {
          "base_uri": "https://localhost:8080/"
        },
        "id": "aDOQnf85vD6H",
        "outputId": "12a29960-061d-4ba0-a28e-f3d79869aaee"
      },
      "execution_count": null,
      "outputs": [
        {
          "output_type": "stream",
          "name": "stdout",
          "text": [
            "+-------+------------------+------------+--------------------+------------------+--------------+\n",
            "|summary|        Patient_ID|Cancer_Stage|   Histological_Type|     Tumor_Size_cm|Grade_of_Tumor|\n",
            "+-------+------------------+------------+--------------------+------------------+--------------+\n",
            "|  count|               100|         100|                 100|               100|           100|\n",
            "|   mean|              50.5|        NULL|                NULL| 5.392475494287356|          NULL|\n",
            "| stddev|29.011491975882016|        NULL|                NULL|2.6552666350625533|          NULL|\n",
            "|    min|                 1|     Stage I|      Adenocarcinoma|1.1377408626134629|          High|\n",
            "|    25%|                25|        NULL|                NULL| 3.158086232416629|          NULL|\n",
            "|    50%|                50|        NULL|                NULL| 5.115386454523557|          NULL|\n",
            "|    75%|                75|        NULL|                NULL| 7.431355937619569|          NULL|\n",
            "|    max|               100|    Stage IV|Squamous Cell Car...| 9.815594757593576|           Low|\n",
            "+-------+------------------+------------+--------------------+------------------+--------------+\n",
            "\n"
          ]
        }
      ]
    },
    {
      "cell_type": "code",
      "source": [
        "treatment_df.summary().show()"
      ],
      "metadata": {
        "colab": {
          "base_uri": "https://localhost:8080/"
        },
        "id": "6VqZoxl4vOe_",
        "outputId": "b23a7f13-95e4-43af-b7c4-04efa0b84a0b"
      },
      "execution_count": null,
      "outputs": [
        {
          "output_type": "stream",
          "name": "stdout",
          "text": [
            "+-------+------------------+--------------+------------------+\n",
            "|summary|        Patient_ID|Treatment_Type|            Dosage|\n",
            "+-------+------------------+--------------+------------------+\n",
            "|  count|               100|           100|               100|\n",
            "|   mean|              50.5|          NULL|124.29488646391448|\n",
            "| stddev|29.011491975882016|          NULL|  41.9404369348223|\n",
            "|    min|                 1|  Chemotherapy| 50.38925365754699|\n",
            "|    25%|                25|          NULL|  90.3008723037961|\n",
            "|    50%|                50|          NULL|128.54034140225167|\n",
            "|    75%|                75|          NULL|158.91812661077722|\n",
            "|    max|               100|       Surgery|197.93854938002227|\n",
            "+-------+------------------+--------------+------------------+\n",
            "\n"
          ]
        }
      ]
    },
    {
      "cell_type": "code",
      "source": [
        "diagnosis_value_count = patient_df.groupBy(\"Diagnosis\").count()\n",
        "\n",
        "total_count = patient_df.count()\n",
        "\n",
        "percentage_column = diagnosis_value_count.withColumn(\"Diagnosis_Percentage\", (F.col(\"count\")/total_count) * 100)"
      ],
      "metadata": {
        "id": "55n-sEEsvOTg"
      },
      "execution_count": null,
      "outputs": []
    },
    {
      "cell_type": "code",
      "source": [
        "percentage_column.show()"
      ],
      "metadata": {
        "colab": {
          "base_uri": "https://localhost:8080/"
        },
        "id": "Ml6T32RUVm1X",
        "outputId": "f688871f-245a-4e07-a815-6f3a71d87479"
      },
      "execution_count": null,
      "outputs": [
        {
          "output_type": "stream",
          "name": "stdout",
          "text": [
            "+-------------+-----+--------------------+\n",
            "|    Diagnosis|count|Diagnosis_Percentage|\n",
            "+-------------+-----+--------------------+\n",
            "|  Lung Cancer|   32|                32.0|\n",
            "| Colon Cancer|   33|                33.0|\n",
            "|Breast Cancer|   35|                35.0|\n",
            "+-------------+-----+--------------------+\n",
            "\n"
          ]
        }
      ]
    },
    {
      "cell_type": "markdown",
      "source": [
        "Joining and Filtering"
      ],
      "metadata": {
        "id": "vFE6JsSzX1Eu"
      }
    },
    {
      "cell_type": "code",
      "source": [
        "#Breast Cancer Histology, Stage, and Treatment\n",
        "\n",
        "bc_patient_df = patient_df.filter(patient_df.Diagnosis == 'Breast Cancer')\n",
        "\n",
        "bc_df = bc_patient_df.join(clinical_df, on=\"Patient_ID\").join(treatment_df, on = \"Patient_ID\")\n",
        "\n",
        "bc_df.show()"
      ],
      "metadata": {
        "colab": {
          "base_uri": "https://localhost:8080/"
        },
        "id": "pd89OjXeVnCN",
        "outputId": "85fb5a7b-cc65-4855-97b2-55ea7881ec72"
      },
      "execution_count": null,
      "outputs": [
        {
          "output_type": "stream",
          "name": "stdout",
          "text": [
            "+----------+-----------------+---+------+-------------+------------+--------------------+------------------+--------------+-----------------+--------------------+------------------+\n",
            "|Patient_ID|             Name|Age|Gender|    Diagnosis|Cancer_Stage|   Histological_Type|     Tumor_Size_cm|Grade_of_Tumor|   Treatment_Type|Treatment_Start_Date|            Dosage|\n",
            "+----------+-----------------+---+------+-------------+------------+--------------------+------------------+--------------+-----------------+--------------------+------------------+\n",
            "|         1|  Tracy Hernandez| 56|Female|Breast Cancer|   Stage III|            Lymphoma|  8.55040151862427|          High|Radiation Therapy|          2023-10-23|174.37463310597718|\n",
            "|         3|     John Roberts| 46|Female|Breast Cancer|   Stage III|Squamous Cell Car...|3.2522622446427762|          High|Radiation Therapy|          2021-11-26|  59.5267744385002|\n",
            "|         6|   Keith Faulkner| 25|Female|Breast Cancer|   Stage III|Squamous Cell Car...| 5.833741844769899|          High|     Chemotherapy|          2021-10-27|52.050794724049595|\n",
            "|         9| Barbara Williams| 56|Female|Breast Cancer|     Stage I|Squamous Cell Car...| 3.443886242377677|           Low|          Surgery|          2020-10-31|130.15194125441946|\n",
            "|        10| Kenneth Williams| 75|  Male|Breast Cancer|    Stage IV|      Adenocarcinoma| 9.687266473516928|           Low|Radiation Therapy|          2021-06-25|162.48661242049576|\n",
            "|        17|       Brian Nash| 53|  Male|Breast Cancer|    Stage IV|Squamous Cell Car...|2.1947088001867283|  Intermediate|          Surgery|          2024-01-13| 80.75679927597874|\n",
            "|        19|Joseph Williamson| 41|  Male|Breast Cancer|     Stage I|            Lymphoma| 7.431355937619569|           Low|          Surgery|          2022-11-13| 91.20976955388632|\n",
            "|        20|   Kaitlyn Butler| 20|  Male|Breast Cancer|    Stage II|      Adenocarcinoma| 1.369607650910882|  Intermediate|          Surgery|          2022-07-29| 81.08414735120847|\n",
            "|        27| Lauren Rodriguez| 55|  Male|Breast Cancer|    Stage IV|Squamous Cell Car...|  4.85483027446097|           Low|          Surgery|          2020-07-02|121.43160451835213|\n",
            "|        30|   Michael Rogers| 38|  Male|Breast Cancer|    Stage IV|      Adenocarcinoma| 9.236923548638323|           Low|          Surgery|          2023-02-23|172.45786028195937|\n",
            "|        31|   Ashley Higgins| 50|  Male|Breast Cancer|     Stage I|Squamous Cell Car...|  4.98117006757994|          High|     Chemotherapy|          2023-05-23|195.19606481597347|\n",
            "|        32|      Gene Gentry| 29|  Male|Breast Cancer|    Stage IV|            Lymphoma| 3.158086232416629|  Intermediate|          Surgery|          2022-07-29|63.261233504846984|\n",
            "|        35|      Donna Gomez| 78|  Male|Breast Cancer|    Stage II|      Adenocarcinoma| 9.411525976057387|  Intermediate|Radiation Therapy|          2022-01-22|122.00689505277127|\n",
            "|        36| Catherine Morris| 61|Female|Breast Cancer|     Stage I|      Adenocarcinoma| 6.744435344590153|          High|Radiation Therapy|          2020-05-24|113.08036679976126|\n",
            "|        37|   Sarah Gonzalez| 42|  Male|Breast Cancer|    Stage IV|Squamous Cell Car...|   5.6502663168391|           Low|          Surgery|          2023-02-28|167.70023959164644|\n",
            "|        42|   Lauren Wheeler| 45|  Male|Breast Cancer|    Stage IV|            Lymphoma| 6.094334894446686|           Low|     Chemotherapy|          2021-12-12|197.06940876385667|\n",
            "|        44|   Jorge Phillips| 33|  Male|Breast Cancer|   Stage III|      Adenocarcinoma|2.0814818302507794|          High|Radiation Therapy|          2020-08-21| 145.4966482433424|\n",
            "|        45|         Judy Lee| 32|Female|Breast Cancer|     Stage I|            Lymphoma| 4.076917000447614|           Low|          Surgery|          2023-04-11|133.22234128133385|\n",
            "|        51|  Anthony Johnson| 61|Female|Breast Cancer|   Stage III|            Lymphoma|1.1544499164857522|          High|          Surgery|          2022-03-12| 94.69391773129257|\n",
            "|        52|   Robert Mcclain| 72|  Male|Breast Cancer|    Stage IV|Squamous Cell Car...| 7.870279807035199|  Intermediate|Radiation Therapy|          2022-07-06|128.54034140225167|\n",
            "+----------+-----------------+---+------+-------------+------------+--------------------+------------------+--------------+-----------------+--------------------+------------------+\n",
            "only showing top 20 rows\n",
            "\n"
          ]
        }
      ]
    },
    {
      "cell_type": "code",
      "source": [
        "bc_stage_percentage = bc_df.groupBy(\"Cancer_Stage\").agg(F.count(\"Patient_ID\").alias(\"Total\"),F.round((F.count(\"Patient_ID\") / bc_df.count()) * 100, 2).alias(\"Percentage\"))"
      ],
      "metadata": {
        "id": "TynQRAvUvOH4"
      },
      "execution_count": null,
      "outputs": []
    },
    {
      "cell_type": "code",
      "source": [
        "def calculate_stage_percentage(df: DataFrame, stage_column: str):\n",
        "  total_count = df.count()\n",
        "\n",
        "  stage_percentage_df = df.groupBy(stage_column).agg(F.count(\"Patient_ID\").alias(\"Total\"),F.round((F.count(\"Patient_ID\")/total_count)*100,2).alias(\"Percentage\"))\n",
        "\n",
        "  return stage_percentage_df"
      ],
      "metadata": {
        "id": "GSK4bwVxcI2y"
      },
      "execution_count": null,
      "outputs": []
    },
    {
      "cell_type": "code",
      "source": [
        "bc_stage_percentage_df = calculate_stage_percentage(bc_df, \"Cancer_Stage\")\n",
        "\n",
        "bc_stage_percentage_df.show()"
      ],
      "metadata": {
        "colab": {
          "base_uri": "https://localhost:8080/"
        },
        "id": "zycjpR59cJCI",
        "outputId": "802b4cdf-c7f8-49da-d3be-eba3cefe9592"
      },
      "execution_count": null,
      "outputs": [
        {
          "output_type": "stream",
          "name": "stdout",
          "text": [
            "+------------+-----+----------+\n",
            "|Cancer_Stage|Total|Percentage|\n",
            "+------------+-----+----------+\n",
            "|   Stage III|    7|      20.0|\n",
            "|    Stage IV|   14|      40.0|\n",
            "|     Stage I|    9|     25.71|\n",
            "|    Stage II|    5|     14.29|\n",
            "+------------+-----+----------+\n",
            "\n"
          ]
        }
      ]
    },
    {
      "cell_type": "code",
      "source": [
        "bc_histology_percentage_df = calculate_stage_percentage(bc_df,\"Histological_Type\")\n",
        "\n",
        "bc_histology_percentage_df.show()"
      ],
      "metadata": {
        "colab": {
          "base_uri": "https://localhost:8080/"
        },
        "id": "37QTRgLbcJFE",
        "outputId": "b6728c12-5079-4803-e002-f2a384c92769"
      },
      "execution_count": null,
      "outputs": [
        {
          "output_type": "stream",
          "name": "stdout",
          "text": [
            "+--------------------+-----+----------+\n",
            "|   Histological_Type|Total|Percentage|\n",
            "+--------------------+-----+----------+\n",
            "|            Lymphoma|   13|     37.14|\n",
            "|      Adenocarcinoma|    9|     25.71|\n",
            "|Squamous Cell Car...|   13|     37.14|\n",
            "+--------------------+-----+----------+\n",
            "\n"
          ]
        }
      ]
    },
    {
      "cell_type": "code",
      "source": [],
      "metadata": {
        "id": "4a4IBo7ZcJIu"
      },
      "execution_count": null,
      "outputs": []
    },
    {
      "cell_type": "code",
      "source": [],
      "metadata": {
        "id": "G9DjfM_7PJcr"
      },
      "execution_count": null,
      "outputs": []
    },
    {
      "cell_type": "code",
      "source": [],
      "metadata": {
        "id": "_zX4RmBfPJk8"
      },
      "execution_count": null,
      "outputs": []
    },
    {
      "cell_type": "code",
      "source": [],
      "metadata": {
        "id": "bsY_OkF6PJte"
      },
      "execution_count": null,
      "outputs": []
    }
  ]
}